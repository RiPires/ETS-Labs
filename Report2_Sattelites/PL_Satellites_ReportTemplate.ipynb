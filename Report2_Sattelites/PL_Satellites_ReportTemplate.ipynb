{
 "cells": [
  {
   "cell_type": "markdown",
   "metadata": {},
   "source": [
    "# EATS PL Report - Satellites\n",
    "Template by André Moitinho\n",
    "\n",
    "***\n",
    "\n",
    "### Student number: \n",
    "### Name: \n",
    "\n",
    "***"
   ]
  },
  {
   "cell_type": "markdown",
   "metadata": {},
   "source": [
    "<div class=\"alert alert-block alert-info\">\n",
    "    \n",
    "## Instructions\n",
    "\n",
    "* Fill in your name and number above\n",
    "* This template provides blocks of instructions that guide you through the activity and report. Put your codes and comments below the corresponding blocks. \n",
    "* Add as many code and markdown cells as necessary. \n",
    "* The blue background colour in the markdown cells (like this one) is reserved for the instruction blocks. Use white cells for your comments.\n",
    "* Write a clear report:\n",
    "    * Provide justifications and comments.\n",
    "    * Figures and labels (legends, axes, etc) should be easy to read.\n",
    "    * Tables should be neatly formatted and include labels.\n",
    "\n",
    "**To submit your report:**\n",
    "\n",
    "You will need to have the nbconvert[webpdf] package installed for saving to pdf. <br>\n",
    "Anaconda: conda install -c conda-forge nbconvert-webpdf <br>\n",
    "General: pip install nbconvert[webpdf]\n",
    "    \n",
    "* Clean up and make sure all works well: In the \"Kernel\" menu select \"Restart & Run All\" (or use the \"fast forward/double arrow\" icon). Wait until the process is completed\n",
    "* Save to a pdf file:\n",
    "    * JupyterNotebook users: In the \"File\" menu -> \"Download As\" -> \"**PDF via HTML (.html)**\". \n",
    "    * JupyterLab users: In the \"File\" menu -> \"Save and Export Notebook As\" -> \"**Webpdf**\".\n",
    "* Check that the PDF file is fine (no truncated lines, nothing missing, etc)\n",
    "* Name the file: NumberFirstnameLastname.pdf* (e.g. 10101ClaudeShannon.pdf)\n",
    "* Upload the pdf file to the \"PL Report - Satellites\" assignement area. \n",
    "\n",
    "### Tips\n",
    "* Run a cell  - keyboard shortcut: shift-enter\n",
    "* To create \"markdown\" cells like this one, For comments, not for code: create a new cell. In the menu above to the right of the \"fast-forward\" icon there's a dropdown button with the default value \"Code\". Change to \"Markdown\".\n",
    "* To display an image from a file on disk (e.g. image.png): In a **markdown cell** you can use *\\!\\[some text\\](image.png)*, or simply drag and drop!\n",
    "</div>\n",
    "\n",
    "---"
   ]
  },
  {
   "cell_type": "markdown",
   "metadata": {},
   "source": [
    "<div class=\"alert alert-block alert-info\">  \n",
    "\n",
    "## Setup\n",
    "Put all your imports (e.g. ephem, numpy, matplotlib, etc)  in the cell bellow\n",
    "</div>\n"
   ]
  },
  {
   "cell_type": "code",
   "execution_count": null,
   "metadata": {},
   "outputs": [],
   "source": []
  },
  {
   "cell_type": "markdown",
   "metadata": {},
   "source": [
    "<div class=\"alert alert-block alert-info\">  \n",
    "\n",
    "## <center>PART 1 -  Orbital elements basics </center>\n",
    "\n",
    "\n",
    "In this first exercise, you'll import a _Three Line Element_ (TLE) for an Earth satellite, propagate its orbit with SGP4 (Simplified perturbations models) implemented in _ephem_ and plot the results. In the process you will see which methods and attributes are provided by _ephem_ for dealing with Earth satellites and their observation.\n",
    "\n",
    "---\n",
    "\n",
    "### Set observer's coordinates and time\n",
    "\n",
    "Start by setting the observer's coordinates and time in an _ephem Observer_ object. Say which place and time you chose.\n",
    "    \n",
    "</div>"
   ]
  },
  {
   "cell_type": "code",
   "execution_count": null,
   "metadata": {},
   "outputs": [],
   "source": []
  },
  {
   "cell_type": "markdown",
   "metadata": {},
   "source": [
    "<div class=\"alert alert-block alert-info\">  \n",
    "    \n",
    "What attributes and methods does the _Observer_ object provide? Use the \"help\" command and show the output\n",
    "\n",
    "</div>"
   ]
  },
  {
   "cell_type": "code",
   "execution_count": null,
   "metadata": {},
   "outputs": [],
   "source": []
  },
  {
   "cell_type": "markdown",
   "metadata": {},
   "source": [
    "<div class=\"alert alert-block alert-info\">  \n",
    "\n",
    "### Read a TLE\n",
    "\n",
    "From the TLE file provided for this exercise, select a satellite and load its orbital elements into an ephem _EarthSatellite_ object (readtle).\n",
    "\n",
    "</div>"
   ]
  },
  {
   "cell_type": "code",
   "execution_count": null,
   "metadata": {},
   "outputs": [],
   "source": []
  },
  {
   "cell_type": "markdown",
   "metadata": {},
   "source": [
    "<div class=\"alert alert-block alert-info\">  \n",
    "    \n",
    "What attributes and methods does the _EarthSatellite_ object provide? Use the \"help\" command and show the output\n",
    "\n",
    "</div>"
   ]
  },
  {
   "cell_type": "code",
   "execution_count": null,
   "metadata": {},
   "outputs": [],
   "source": []
  },
  {
   "cell_type": "markdown",
   "metadata": {},
   "source": [
    "<div class=\"alert alert-block alert-info\">  \n",
    "    \n",
    "List the attributes and methods in the _EarthSatellite_  by directly inspecting its contents with the _dir_ instruction.\n",
    "    \n",
    "</div>"
   ]
  },
  {
   "cell_type": "code",
   "execution_count": null,
   "metadata": {},
   "outputs": [],
   "source": []
  },
  {
   "cell_type": "markdown",
   "metadata": {},
   "source": [
    "<div class=\"alert alert-block alert-info\">  \n",
    "    \n",
    "### Orbit integration.\n",
    "    \n",
    "Our goal is to visualise the satellite's positions (alititude and azimuth) for an array of times.\n",
    "\n",
    "1. Create an array of times spanning a whole day\n",
    "2. Compute the orbits for each time in the array\n",
    "\n",
    "\n",
    "</div>\n"
   ]
  },
  {
   "cell_type": "code",
   "execution_count": null,
   "metadata": {},
   "outputs": [],
   "source": []
  },
  {
   "cell_type": "markdown",
   "metadata": {},
   "source": [
    "<div class=\"alert alert-block alert-info\">  \n",
    "\n",
    "### Plot the satellite tracks for the times and positions you have computed above\n",
    "\n",
    "1. Atitude vs time\n",
    "2. Azimuth vs time\n",
    "3. Satellite track in polar coordinates\n",
    "\n",
    "Make sure the plots are easily seen together (no scrolling!)\n",
    "</div>\n"
   ]
  },
  {
   "cell_type": "code",
   "execution_count": null,
   "metadata": {},
   "outputs": [],
   "source": []
  },
  {
   "cell_type": "markdown",
   "metadata": {},
   "source": [
    "<div class=\"alert alert-block alert-info\">  \n",
    "\n",
    "\n",
    "## <center>PART 2 -  Processing TLEs on the large scale </center>\n",
    "\n",
    "Here is where you process the whole TLE file, propagate orbits, compute 3D cartesian positions of the satellites and write the output to a file for opening in other analsys software. \n",
    "\n",
    "Below, I provide a utility function for reading the TLE file into a list of _EarthSatellite_ objects. It is for you to understand how the function works or use another method.\n",
    "\n",
    "</div>\n"
   ]
  },
  {
   "cell_type": "code",
   "execution_count": 1,
   "metadata": {},
   "outputs": [],
   "source": [
    "# Auxiliary function for reading 3LE files\n",
    "\n",
    "def loadTLE(filename):\n",
    "    \"\"\" Loads a TLE file and creates a list of satellites.\"\"\"\n",
    "    f = open(filename)\n",
    "    satlist = []\n",
    "    l1 = f.readline()\n",
    "    while l1:\n",
    "        l2 = f.readline()\n",
    "        l3 = f.readline()\n",
    "        sat = ephem.readtle(l1,l2,l3)\n",
    "        satlist.append(sat)\n",
    "        l1 = f.readline()\n",
    "\n",
    "    f.close()\n",
    "    print(\"%i satellites loaded into list\"%len(satlist))\n",
    "    return satlist"
   ]
  },
  {
   "cell_type": "markdown",
   "metadata": {},
   "source": [
    "<div class=\"alert alert-block alert-info\">  \n",
    "\n",
    "\n",
    "### Read a TLE file\n",
    "\n",
    "Read the TLEs from the file provided for this activity into a list of _EarthSatellite_ objects\n",
    "\n",
    "</div>\n"
   ]
  },
  {
   "cell_type": "code",
   "execution_count": null,
   "metadata": {},
   "outputs": [],
   "source": []
  },
  {
   "cell_type": "markdown",
   "metadata": {},
   "source": [
    "<div class=\"alert alert-block alert-info\">  \n",
    "\n",
    "### Compute orbits and create arrays of X,Y,Z cartesian positions relative to the centre of the Earth of the objects read above\n",
    "\n",
    "The computations are for one fixed date of your choice. You may use the observer and a date defined in the beginning of the report, or set a new location and date (clearly indicated).\n",
    "\n",
    "Sometimes, _ephem_ will not compute the positions and exits with an error. This is often due to the old date of some TLEs. To overcome this unwanted termination, you will have to capture those exceptions and eliminate the problematic satellites from the list. Print on the screen the names of the satellites that have been discarded.\n",
    "\n",
    "</div>\n"
   ]
  },
  {
   "cell_type": "code",
   "execution_count": null,
   "metadata": {},
   "outputs": [],
   "source": []
  },
  {
   "cell_type": "markdown",
   "metadata": {},
   "source": [
    "<div class=\"alert alert-block alert-info\">  \n",
    "\n",
    "\n",
    "### Plot cartesian XYZ positions in 3D\n",
    "\n",
    "There are some outliers at great distances. Get rid of them to provide a good view of the LEO and GEO environments.\n",
    "\n",
    "Note: You might get some warnings which can be safely muted with:\n",
    "np.warnings.filterwarnings('ignore')\n",
    "\n",
    "</div>\n"
   ]
  },
  {
   "cell_type": "code",
   "execution_count": null,
   "metadata": {},
   "outputs": [],
   "source": []
  },
  {
   "cell_type": "markdown",
   "metadata": {},
   "source": [
    "<div class=\"alert alert-block alert-info\">  \n",
    "\n",
    "\n",
    "### Export results to a csv file\n",
    "\n",
    "You were able to do a 3D plot showing the Earth's orbital environments. That was nice. But now we want to export the data to a file to continue exploring them with more specialised interactive visualisation software. \n",
    "\n",
    "For that, export the data from the orbit computation, as well as X,Y,Z to a CSV file. Include a header identifying the columns listed.  \n",
    "\n",
    "Note: You may also make the header more human friendy by changing the names in some fields (e.g. _n -> mean motion). Remember that the \"help\" instruction provides a description of the variables.\n",
    "\n",
    "</div>\n"
   ]
  },
  {
   "cell_type": "code",
   "execution_count": null,
   "metadata": {},
   "outputs": [],
   "source": []
  },
  {
   "cell_type": "markdown",
   "metadata": {},
   "source": [
    "<div class=\"alert alert-block alert-info\">  \n",
    "\n",
    "Check all went fine: Print the header and first lines to the screen\n",
    "</div>\n"
   ]
  },
  {
   "cell_type": "code",
   "execution_count": null,
   "metadata": {},
   "outputs": [],
   "source": []
  },
  {
   "cell_type": "markdown",
   "metadata": {},
   "source": [
    "<div class=\"alert alert-block alert-info\">  \n",
    "\n",
    "\n",
    "### Quick analyis with TOPCAT\n",
    "\n",
    "* Open the csv file in TOPCAT\n",
    "* Make a 3D plot of X,Y,Z to show the LEO/MEO/GEO environments\n",
    "* Make a (2D) scatter plot of eccentricity vs mean_motion\n",
    "* Create a subset of the data by selecting a region you find interesting in the 2D plot\n",
    "* Show how this subset appears distributed in the 3D plot\n",
    "* Take a screenshot of your Desktop with the TOPCAT plots clearly seen and display it in the markdown cell below (double click on the example image from Gaia DR3)\n",
    "\n",
    "</div>"
   ]
  },
  {
   "cell_type": "markdown",
   "metadata": {},
   "source": [
    "\n",
    "\n",
    "![This image is a placeholder. Change it](Gaia_eDR3.png)"
   ]
  }
 ],
 "metadata": {
  "kernelspec": {
   "display_name": "Python 3 (ipykernel)",
   "language": "python",
   "name": "python3"
  },
  "language_info": {
   "codemirror_mode": {
    "name": "ipython",
    "version": 3
   },
   "file_extension": ".py",
   "mimetype": "text/x-python",
   "name": "python",
   "nbconvert_exporter": "python",
   "pygments_lexer": "ipython3",
   "version": "3.9.13"
  }
 },
 "nbformat": 4,
 "nbformat_minor": 4
}
